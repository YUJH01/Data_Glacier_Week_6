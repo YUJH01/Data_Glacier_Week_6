{
 "cells": [
  {
   "cell_type": "markdown",
   "source": [
    "## Create testutility.py"
   ],
   "metadata": {
    "collapsed": false
   }
  },
  {
   "cell_type": "code",
   "execution_count": 1,
   "metadata": {
    "collapsed": true
   },
   "outputs": [
    {
     "name": "stdout",
     "output_type": "stream",
     "text": [
      "Overwriting testutility.py\n"
     ]
    }
   ],
   "source": [
    "%%writefile testutility.py\n",
    "import logging\n",
    "import os\n",
    "import subprocess\n",
    "import yaml\n",
    "import pandas as pd\n",
    "import datetime\n",
    "import gc\n",
    "import re\n",
    "\n",
    "\n",
    "################\n",
    "# File Reading #\n",
    "################\n",
    "\n",
    "def read_config_file(filepath):\n",
    "    with open(filepath, 'r') as stream:\n",
    "        try:\n",
    "            return yaml.safe_load(stream)\n",
    "        except yaml.YAMLError as exc:\n",
    "            logging.error(exc)\n",
    "\n",
    "\n",
    "def replacer(string, char):\n",
    "    pattern = char + '{2,}'\n",
    "    string = re.sub(pattern, char, string)\n",
    "    return string\n",
    "\n",
    "def col_header_val(df,table_config):\n",
    "    '''\n",
    "    replace whitespaces in the column\n",
    "    and standardized column names\n",
    "    '''\n",
    "    df.columns = df.columns.str.lower()\n",
    "    df.columns = df.columns.str.replace('[^\\w]','_',regex=True)\n",
    "    df.columns = list(map(lambda x: x.strip('_'), list(df.columns)))\n",
    "    df.columns = list(map(lambda x: replacer(x,'_'), list(df.columns)))\n",
    "    expected_col = list(map(lambda x: x.lower(),  table_config['columns']))\n",
    "    expected_col.sort()\n",
    "    df.columns =list(map(lambda x: x.lower(), list(df.columns)))\n",
    "    df = df.reindex(sorted(df.columns), axis=1)\n",
    "    if len(df.columns) == len(expected_col) and list(expected_col)  == list(df.columns):\n",
    "        print(\"column name and column length validation passed\")\n",
    "        return 1\n",
    "    else:\n",
    "        print(\"column name and column length validation failed\")\n",
    "        mismatched_columns_file = list(set(df.columns).difference(expected_col))\n",
    "        print(\"Following File columns are not in the YAML file\",mismatched_columns_file)\n",
    "        missing_YAML_file = list(set(expected_col).difference(df.columns))\n",
    "        print(\"Following YAML columns are not in the file uploaded\",missing_YAML_file)\n",
    "        logging.info(f'df columns: {df.columns}')\n",
    "        logging.info(f'expected columns: {expected_col}')\n",
    "        return 0"
   ]
  },
  {
   "cell_type": "markdown",
   "source": [
    "## Write YAML file"
   ],
   "metadata": {
    "collapsed": false
   }
  },
  {
   "cell_type": "code",
   "execution_count": 2,
   "outputs": [
    {
     "name": "stdout",
     "output_type": "stream",
     "text": [
      "Overwriting file.yaml\n"
     ]
    }
   ],
   "source": [
    "%%writefile file.yaml\n",
    "file_type: csv\n",
    "dataset_name: flights\n",
    "file_name: Combined_Flights_2021\n",
    "file_path: data/Combined_Flights_2021.csv\n",
    "inbound_delimiter: \",\"\n",
    "outbound_delimiter: \"|\"\n",
    "skip_leading_rows: 1\n",
    "columns:\n",
    "    - FlightDate\n",
    "    - Airline\n",
    "    - Origin\n",
    "    - Dest\n",
    "    - Cancelled\n",
    "    - Diverted\n",
    "    - CRSDepTime\n",
    "    - DepTime\n",
    "    - DepDelayMinutes\n",
    "    - DepDelay\n",
    "    - ArrTime\n",
    "    - ArrDelayMinutes\n",
    "    - AirTime\n",
    "    - CRSElapsedTime\n",
    "    - ActualElapsedTime\n",
    "    - Distance\n",
    "    - Year\n",
    "    - Quarter\n",
    "    - Month\n",
    "    - DayofMonth\n",
    "    - DayOfWeek\n",
    "    - Marketing_Airline_Network\n",
    "    - Operated_or_Branded_Code_Share_Partners\n",
    "    - DOT_ID_Marketing_Airline\n",
    "    - IATA_Code_Marketing_Airline\n",
    "    - Flight_Number_Marketing_Airline\n",
    "    - Operating_Airline\n",
    "    - DOT_ID_Operating_Airline\n",
    "    - IATA_Code_Operating_Airline\n",
    "    - Tail_Number\n",
    "    - Flight_Number_Operating_Airline\n",
    "    - OriginAirportID\n",
    "    - OriginAirportSeqID\n",
    "    - OriginCityMarketID\n",
    "    - OriginCityName\n",
    "    - OriginState\n",
    "    - OriginStateFips\n",
    "    - OriginStateName\n",
    "    - OriginWac\n",
    "    - DestAirportID\n",
    "    - DestAirportSeqID\n",
    "    - DestCityMarketID\n",
    "    - DestCityName\n",
    "    - DestState\n",
    "    - DestStateFips\n",
    "    - DestStateName\n",
    "    - DestWac\n",
    "    - DepDel15\n",
    "    - DepartureDelayGroups\n",
    "    - DepTimeBlk\n",
    "    - TaxiOut\n",
    "    - WheelsOff\n",
    "    - WheelsOn\n",
    "    - TaxiIn\n",
    "    - CRSArrTime\n",
    "    - ArrDelay\n",
    "    - ArrDel15\n",
    "    - ArrivalDelayGroups\n",
    "    - ArrTimeBlk\n",
    "    - DistanceGroup\n",
    "    - DivAirportLandings"
   ],
   "metadata": {
    "collapsed": false
   }
  },
  {
   "cell_type": "code",
   "execution_count": 3,
   "outputs": [],
   "source": [
    "# Read config file\n",
    "import testutility as util\n",
    "config_data = util.read_config_file(\"file.yaml\")"
   ],
   "metadata": {
    "collapsed": false
   }
  },
  {
   "cell_type": "code",
   "execution_count": 4,
   "outputs": [
    {
     "data": {
      "text/plain": "{'file_type': 'csv',\n 'dataset_name': 'flights',\n 'file_name': 'Combined_Flights_2021',\n 'file_path': 'data/Combined_Flights_2021.csv',\n 'inbound_delimiter': ',',\n 'outbound_delimiter': '|',\n 'skip_leading_rows': 1,\n 'columns': ['FlightDate',\n  'Airline',\n  'Origin',\n  'Dest',\n  'Cancelled',\n  'Diverted',\n  'CRSDepTime',\n  'DepTime',\n  'DepDelayMinutes',\n  'DepDelay',\n  'ArrTime',\n  'ArrDelayMinutes',\n  'AirTime',\n  'CRSElapsedTime',\n  'ActualElapsedTime',\n  'Distance',\n  'Year',\n  'Quarter',\n  'Month',\n  'DayofMonth',\n  'DayOfWeek',\n  'Marketing_Airline_Network',\n  'Operated_or_Branded_Code_Share_Partners',\n  'DOT_ID_Marketing_Airline',\n  'IATA_Code_Marketing_Airline',\n  'Flight_Number_Marketing_Airline',\n  'Operating_Airline',\n  'DOT_ID_Operating_Airline',\n  'IATA_Code_Operating_Airline',\n  'Tail_Number',\n  'Flight_Number_Operating_Airline',\n  'OriginAirportID',\n  'OriginAirportSeqID',\n  'OriginCityMarketID',\n  'OriginCityName',\n  'OriginState',\n  'OriginStateFips',\n  'OriginStateName',\n  'OriginWac',\n  'DestAirportID',\n  'DestAirportSeqID',\n  'DestCityMarketID',\n  'DestCityName',\n  'DestState',\n  'DestStateFips',\n  'DestStateName',\n  'DestWac',\n  'DepDel15',\n  'DepartureDelayGroups',\n  'DepTimeBlk',\n  'TaxiOut',\n  'WheelsOff',\n  'WheelsOn',\n  'TaxiIn',\n  'CRSArrTime',\n  'ArrDelay',\n  'ArrDel15',\n  'ArrivalDelayGroups',\n  'ArrTimeBlk',\n  'DistanceGroup',\n  'DivAirportLandings']}"
     },
     "execution_count": 4,
     "metadata": {},
     "output_type": "execute_result"
    }
   ],
   "source": [
    "#inspecting data of config file\n",
    "config_data"
   ],
   "metadata": {
    "collapsed": false
   }
  },
  {
   "cell_type": "markdown",
   "source": [
    "## Load data"
   ],
   "metadata": {
    "collapsed": false
   }
  },
  {
   "cell_type": "markdown",
   "source": [
    "##### Pandas:"
   ],
   "metadata": {
    "collapsed": false
   }
  },
  {
   "cell_type": "code",
   "execution_count": 5,
   "outputs": [
    {
     "name": "stderr",
     "output_type": "stream",
     "text": [
      "/var/folders/55/8329xk652qqcmwyx7rj48p6m0000gn/T/ipykernel_29402/30463369.py:10: FutureWarning: In a future version of pandas all arguments of read_csv except for the argument 'filepath_or_buffer' will be keyword-only.\n",
      "  df = pd.read_csv(file_path, config_data['inbound_delimiter'])\n"
     ]
    },
    {
     "data": {
      "text/plain": "   FlightDate                Airline Origin Dest  Cancelled  Diverted  \\\n0  2021-03-03  SkyWest Airlines Inc.    SGU  PHX      False     False   \n1  2021-03-03  SkyWest Airlines Inc.    PHX  SGU      False     False   \n2  2021-03-03  SkyWest Airlines Inc.    MHT  ORD      False     False   \n3  2021-03-03  SkyWest Airlines Inc.    DFW  TRI      False     False   \n4  2021-03-03  SkyWest Airlines Inc.    PHX  BFL      False     False   \n\n   CRSDepTime  DepTime  DepDelayMinutes  DepDelay  ...  WheelsOff  WheelsOn  \\\n0         724    714.0              0.0     -10.0  ...      724.0     813.0   \n1         922    917.0              0.0      -5.0  ...      940.0    1028.0   \n2        1330   1321.0              0.0      -9.0  ...     1336.0    1445.0   \n3        1645   1636.0              0.0      -9.0  ...     1703.0    1955.0   \n4        1844   1838.0              0.0      -6.0  ...     1851.0    1900.0   \n\n   TaxiIn  CRSArrTime  ArrDelay  ArrDel15  ArrivalDelayGroups  ArrTimeBlk  \\\n0     5.0         843     -25.0       0.0                -2.0   0800-0859   \n1     3.0        1040      -9.0       0.0                -1.0   1000-1059   \n2    16.0        1530     -29.0       0.0                -2.0   1500-1559   \n3     7.0        2010      -8.0       0.0                -1.0   2000-2059   \n4     3.0        1925     -22.0       0.0                -2.0   1900-1959   \n\n   DistanceGroup  DivAirportLandings  \n0              2                 0.0  \n1              2                 0.0  \n2              4                 0.0  \n3              4                 0.0  \n4              2                 0.0  \n\n[5 rows x 61 columns]",
      "text/html": "<div>\n<style scoped>\n    .dataframe tbody tr th:only-of-type {\n        vertical-align: middle;\n    }\n\n    .dataframe tbody tr th {\n        vertical-align: top;\n    }\n\n    .dataframe thead th {\n        text-align: right;\n    }\n</style>\n<table border=\"1\" class=\"dataframe\">\n  <thead>\n    <tr style=\"text-align: right;\">\n      <th></th>\n      <th>FlightDate</th>\n      <th>Airline</th>\n      <th>Origin</th>\n      <th>Dest</th>\n      <th>Cancelled</th>\n      <th>Diverted</th>\n      <th>CRSDepTime</th>\n      <th>DepTime</th>\n      <th>DepDelayMinutes</th>\n      <th>DepDelay</th>\n      <th>...</th>\n      <th>WheelsOff</th>\n      <th>WheelsOn</th>\n      <th>TaxiIn</th>\n      <th>CRSArrTime</th>\n      <th>ArrDelay</th>\n      <th>ArrDel15</th>\n      <th>ArrivalDelayGroups</th>\n      <th>ArrTimeBlk</th>\n      <th>DistanceGroup</th>\n      <th>DivAirportLandings</th>\n    </tr>\n  </thead>\n  <tbody>\n    <tr>\n      <th>0</th>\n      <td>2021-03-03</td>\n      <td>SkyWest Airlines Inc.</td>\n      <td>SGU</td>\n      <td>PHX</td>\n      <td>False</td>\n      <td>False</td>\n      <td>724</td>\n      <td>714.0</td>\n      <td>0.0</td>\n      <td>-10.0</td>\n      <td>...</td>\n      <td>724.0</td>\n      <td>813.0</td>\n      <td>5.0</td>\n      <td>843</td>\n      <td>-25.0</td>\n      <td>0.0</td>\n      <td>-2.0</td>\n      <td>0800-0859</td>\n      <td>2</td>\n      <td>0.0</td>\n    </tr>\n    <tr>\n      <th>1</th>\n      <td>2021-03-03</td>\n      <td>SkyWest Airlines Inc.</td>\n      <td>PHX</td>\n      <td>SGU</td>\n      <td>False</td>\n      <td>False</td>\n      <td>922</td>\n      <td>917.0</td>\n      <td>0.0</td>\n      <td>-5.0</td>\n      <td>...</td>\n      <td>940.0</td>\n      <td>1028.0</td>\n      <td>3.0</td>\n      <td>1040</td>\n      <td>-9.0</td>\n      <td>0.0</td>\n      <td>-1.0</td>\n      <td>1000-1059</td>\n      <td>2</td>\n      <td>0.0</td>\n    </tr>\n    <tr>\n      <th>2</th>\n      <td>2021-03-03</td>\n      <td>SkyWest Airlines Inc.</td>\n      <td>MHT</td>\n      <td>ORD</td>\n      <td>False</td>\n      <td>False</td>\n      <td>1330</td>\n      <td>1321.0</td>\n      <td>0.0</td>\n      <td>-9.0</td>\n      <td>...</td>\n      <td>1336.0</td>\n      <td>1445.0</td>\n      <td>16.0</td>\n      <td>1530</td>\n      <td>-29.0</td>\n      <td>0.0</td>\n      <td>-2.0</td>\n      <td>1500-1559</td>\n      <td>4</td>\n      <td>0.0</td>\n    </tr>\n    <tr>\n      <th>3</th>\n      <td>2021-03-03</td>\n      <td>SkyWest Airlines Inc.</td>\n      <td>DFW</td>\n      <td>TRI</td>\n      <td>False</td>\n      <td>False</td>\n      <td>1645</td>\n      <td>1636.0</td>\n      <td>0.0</td>\n      <td>-9.0</td>\n      <td>...</td>\n      <td>1703.0</td>\n      <td>1955.0</td>\n      <td>7.0</td>\n      <td>2010</td>\n      <td>-8.0</td>\n      <td>0.0</td>\n      <td>-1.0</td>\n      <td>2000-2059</td>\n      <td>4</td>\n      <td>0.0</td>\n    </tr>\n    <tr>\n      <th>4</th>\n      <td>2021-03-03</td>\n      <td>SkyWest Airlines Inc.</td>\n      <td>PHX</td>\n      <td>BFL</td>\n      <td>False</td>\n      <td>False</td>\n      <td>1844</td>\n      <td>1838.0</td>\n      <td>0.0</td>\n      <td>-6.0</td>\n      <td>...</td>\n      <td>1851.0</td>\n      <td>1900.0</td>\n      <td>3.0</td>\n      <td>1925</td>\n      <td>-22.0</td>\n      <td>0.0</td>\n      <td>-2.0</td>\n      <td>1900-1959</td>\n      <td>2</td>\n      <td>0.0</td>\n    </tr>\n  </tbody>\n</table>\n<p>5 rows × 61 columns</p>\n</div>"
     },
     "execution_count": 5,
     "metadata": {},
     "output_type": "execute_result"
    }
   ],
   "source": [
    "# read the file using config file\n",
    "from datetime import datetime\n",
    "import pandas as pd\n",
    "\n",
    "file_type = config_data['file_type']\n",
    "file_path = config_data['file_path']\n",
    "\n",
    "t1 = datetime.now()\n",
    "\n",
    "df = pd.read_csv(file_path, config_data['inbound_delimiter'])\n",
    "\n",
    "t2 = datetime.now()\n",
    "\n",
    "time_pandas = t2-t1\n",
    "\n",
    "df.head()"
   ],
   "metadata": {
    "collapsed": false
   }
  },
  {
   "cell_type": "code",
   "execution_count": 6,
   "outputs": [
    {
     "name": "stdout",
     "output_type": "stream",
     "text": [
      "It take 0:00:23.781261 to load dataset using Pandas\n"
     ]
    }
   ],
   "source": [
    "print(f\"It take {time_pandas} to load dataset using Pandas\")"
   ],
   "metadata": {
    "collapsed": false
   }
  },
  {
   "cell_type": "markdown",
   "source": [
    "##### Dask"
   ],
   "metadata": {
    "collapsed": false
   }
  },
  {
   "cell_type": "code",
   "execution_count": 14,
   "outputs": [
    {
     "data": {
      "text/plain": "   FlightDate                Airline Origin Dest  Cancelled  Diverted  \\\n0  2021-03-03  SkyWest Airlines Inc.    SGU  PHX      False     False   \n1  2021-03-03  SkyWest Airlines Inc.    PHX  SGU      False     False   \n2  2021-03-03  SkyWest Airlines Inc.    MHT  ORD      False     False   \n3  2021-03-03  SkyWest Airlines Inc.    DFW  TRI      False     False   \n4  2021-03-03  SkyWest Airlines Inc.    PHX  BFL      False     False   \n\n   CRSDepTime  DepTime  DepDelayMinutes  DepDelay  ...  WheelsOff  WheelsOn  \\\n0         724    714.0              0.0     -10.0  ...      724.0     813.0   \n1         922    917.0              0.0      -5.0  ...      940.0    1028.0   \n2        1330   1321.0              0.0      -9.0  ...     1336.0    1445.0   \n3        1645   1636.0              0.0      -9.0  ...     1703.0    1955.0   \n4        1844   1838.0              0.0      -6.0  ...     1851.0    1900.0   \n\n   TaxiIn  CRSArrTime  ArrDelay  ArrDel15  ArrivalDelayGroups  ArrTimeBlk  \\\n0     5.0         843     -25.0       0.0                -2.0   0800-0859   \n1     3.0        1040      -9.0       0.0                -1.0   1000-1059   \n2    16.0        1530     -29.0       0.0                -2.0   1500-1559   \n3     7.0        2010      -8.0       0.0                -1.0   2000-2059   \n4     3.0        1925     -22.0       0.0                -2.0   1900-1959   \n\n   DistanceGroup  DivAirportLandings  \n0              2                 0.0  \n1              2                 0.0  \n2              4                 0.0  \n3              4                 0.0  \n4              2                 0.0  \n\n[5 rows x 61 columns]",
      "text/html": "<div>\n<style scoped>\n    .dataframe tbody tr th:only-of-type {\n        vertical-align: middle;\n    }\n\n    .dataframe tbody tr th {\n        vertical-align: top;\n    }\n\n    .dataframe thead th {\n        text-align: right;\n    }\n</style>\n<table border=\"1\" class=\"dataframe\">\n  <thead>\n    <tr style=\"text-align: right;\">\n      <th></th>\n      <th>FlightDate</th>\n      <th>Airline</th>\n      <th>Origin</th>\n      <th>Dest</th>\n      <th>Cancelled</th>\n      <th>Diverted</th>\n      <th>CRSDepTime</th>\n      <th>DepTime</th>\n      <th>DepDelayMinutes</th>\n      <th>DepDelay</th>\n      <th>...</th>\n      <th>WheelsOff</th>\n      <th>WheelsOn</th>\n      <th>TaxiIn</th>\n      <th>CRSArrTime</th>\n      <th>ArrDelay</th>\n      <th>ArrDel15</th>\n      <th>ArrivalDelayGroups</th>\n      <th>ArrTimeBlk</th>\n      <th>DistanceGroup</th>\n      <th>DivAirportLandings</th>\n    </tr>\n  </thead>\n  <tbody>\n    <tr>\n      <th>0</th>\n      <td>2021-03-03</td>\n      <td>SkyWest Airlines Inc.</td>\n      <td>SGU</td>\n      <td>PHX</td>\n      <td>False</td>\n      <td>False</td>\n      <td>724</td>\n      <td>714.0</td>\n      <td>0.0</td>\n      <td>-10.0</td>\n      <td>...</td>\n      <td>724.0</td>\n      <td>813.0</td>\n      <td>5.0</td>\n      <td>843</td>\n      <td>-25.0</td>\n      <td>0.0</td>\n      <td>-2.0</td>\n      <td>0800-0859</td>\n      <td>2</td>\n      <td>0.0</td>\n    </tr>\n    <tr>\n      <th>1</th>\n      <td>2021-03-03</td>\n      <td>SkyWest Airlines Inc.</td>\n      <td>PHX</td>\n      <td>SGU</td>\n      <td>False</td>\n      <td>False</td>\n      <td>922</td>\n      <td>917.0</td>\n      <td>0.0</td>\n      <td>-5.0</td>\n      <td>...</td>\n      <td>940.0</td>\n      <td>1028.0</td>\n      <td>3.0</td>\n      <td>1040</td>\n      <td>-9.0</td>\n      <td>0.0</td>\n      <td>-1.0</td>\n      <td>1000-1059</td>\n      <td>2</td>\n      <td>0.0</td>\n    </tr>\n    <tr>\n      <th>2</th>\n      <td>2021-03-03</td>\n      <td>SkyWest Airlines Inc.</td>\n      <td>MHT</td>\n      <td>ORD</td>\n      <td>False</td>\n      <td>False</td>\n      <td>1330</td>\n      <td>1321.0</td>\n      <td>0.0</td>\n      <td>-9.0</td>\n      <td>...</td>\n      <td>1336.0</td>\n      <td>1445.0</td>\n      <td>16.0</td>\n      <td>1530</td>\n      <td>-29.0</td>\n      <td>0.0</td>\n      <td>-2.0</td>\n      <td>1500-1559</td>\n      <td>4</td>\n      <td>0.0</td>\n    </tr>\n    <tr>\n      <th>3</th>\n      <td>2021-03-03</td>\n      <td>SkyWest Airlines Inc.</td>\n      <td>DFW</td>\n      <td>TRI</td>\n      <td>False</td>\n      <td>False</td>\n      <td>1645</td>\n      <td>1636.0</td>\n      <td>0.0</td>\n      <td>-9.0</td>\n      <td>...</td>\n      <td>1703.0</td>\n      <td>1955.0</td>\n      <td>7.0</td>\n      <td>2010</td>\n      <td>-8.0</td>\n      <td>0.0</td>\n      <td>-1.0</td>\n      <td>2000-2059</td>\n      <td>4</td>\n      <td>0.0</td>\n    </tr>\n    <tr>\n      <th>4</th>\n      <td>2021-03-03</td>\n      <td>SkyWest Airlines Inc.</td>\n      <td>PHX</td>\n      <td>BFL</td>\n      <td>False</td>\n      <td>False</td>\n      <td>1844</td>\n      <td>1838.0</td>\n      <td>0.0</td>\n      <td>-6.0</td>\n      <td>...</td>\n      <td>1851.0</td>\n      <td>1900.0</td>\n      <td>3.0</td>\n      <td>1925</td>\n      <td>-22.0</td>\n      <td>0.0</td>\n      <td>-2.0</td>\n      <td>1900-1959</td>\n      <td>2</td>\n      <td>0.0</td>\n    </tr>\n  </tbody>\n</table>\n<p>5 rows × 61 columns</p>\n</div>"
     },
     "execution_count": 7,
     "metadata": {},
     "output_type": "execute_result"
    },
    {
     "data": {
      "text/plain": "   FlightDate                Airline Origin Dest  Cancelled  Diverted  \\\n0  2021-03-03  SkyWest Airlines Inc.    SGU  PHX      False     False   \n1  2021-03-03  SkyWest Airlines Inc.    PHX  SGU      False     False   \n2  2021-03-03  SkyWest Airlines Inc.    MHT  ORD      False     False   \n3  2021-03-03  SkyWest Airlines Inc.    DFW  TRI      False     False   \n4  2021-03-03  SkyWest Airlines Inc.    PHX  BFL      False     False   \n\n   CRSDepTime  DepTime  DepDelayMinutes  DepDelay  ...  WheelsOff  WheelsOn  \\\n0         724    714.0              0.0     -10.0  ...      724.0     813.0   \n1         922    917.0              0.0      -5.0  ...      940.0    1028.0   \n2        1330   1321.0              0.0      -9.0  ...     1336.0    1445.0   \n3        1645   1636.0              0.0      -9.0  ...     1703.0    1955.0   \n4        1844   1838.0              0.0      -6.0  ...     1851.0    1900.0   \n\n   TaxiIn  CRSArrTime  ArrDelay  ArrDel15  ArrivalDelayGroups  ArrTimeBlk  \\\n0     5.0         843     -25.0       0.0                -2.0   0800-0859   \n1     3.0        1040      -9.0       0.0                -1.0   1000-1059   \n2    16.0        1530     -29.0       0.0                -2.0   1500-1559   \n3     7.0        2010      -8.0       0.0                -1.0   2000-2059   \n4     3.0        1925     -22.0       0.0                -2.0   1900-1959   \n\n   DistanceGroup  DivAirportLandings  \n0              2                 0.0  \n1              2                 0.0  \n2              4                 0.0  \n3              4                 0.0  \n4              2                 0.0  \n\n[5 rows x 61 columns]",
      "text/html": "<div>\n<style scoped>\n    .dataframe tbody tr th:only-of-type {\n        vertical-align: middle;\n    }\n\n    .dataframe tbody tr th {\n        vertical-align: top;\n    }\n\n    .dataframe thead th {\n        text-align: right;\n    }\n</style>\n<table border=\"1\" class=\"dataframe\">\n  <thead>\n    <tr style=\"text-align: right;\">\n      <th></th>\n      <th>FlightDate</th>\n      <th>Airline</th>\n      <th>Origin</th>\n      <th>Dest</th>\n      <th>Cancelled</th>\n      <th>Diverted</th>\n      <th>CRSDepTime</th>\n      <th>DepTime</th>\n      <th>DepDelayMinutes</th>\n      <th>DepDelay</th>\n      <th>...</th>\n      <th>WheelsOff</th>\n      <th>WheelsOn</th>\n      <th>TaxiIn</th>\n      <th>CRSArrTime</th>\n      <th>ArrDelay</th>\n      <th>ArrDel15</th>\n      <th>ArrivalDelayGroups</th>\n      <th>ArrTimeBlk</th>\n      <th>DistanceGroup</th>\n      <th>DivAirportLandings</th>\n    </tr>\n  </thead>\n  <tbody>\n    <tr>\n      <th>0</th>\n      <td>2021-03-03</td>\n      <td>SkyWest Airlines Inc.</td>\n      <td>SGU</td>\n      <td>PHX</td>\n      <td>False</td>\n      <td>False</td>\n      <td>724</td>\n      <td>714.0</td>\n      <td>0.0</td>\n      <td>-10.0</td>\n      <td>...</td>\n      <td>724.0</td>\n      <td>813.0</td>\n      <td>5.0</td>\n      <td>843</td>\n      <td>-25.0</td>\n      <td>0.0</td>\n      <td>-2.0</td>\n      <td>0800-0859</td>\n      <td>2</td>\n      <td>0.0</td>\n    </tr>\n    <tr>\n      <th>1</th>\n      <td>2021-03-03</td>\n      <td>SkyWest Airlines Inc.</td>\n      <td>PHX</td>\n      <td>SGU</td>\n      <td>False</td>\n      <td>False</td>\n      <td>922</td>\n      <td>917.0</td>\n      <td>0.0</td>\n      <td>-5.0</td>\n      <td>...</td>\n      <td>940.0</td>\n      <td>1028.0</td>\n      <td>3.0</td>\n      <td>1040</td>\n      <td>-9.0</td>\n      <td>0.0</td>\n      <td>-1.0</td>\n      <td>1000-1059</td>\n      <td>2</td>\n      <td>0.0</td>\n    </tr>\n    <tr>\n      <th>2</th>\n      <td>2021-03-03</td>\n      <td>SkyWest Airlines Inc.</td>\n      <td>MHT</td>\n      <td>ORD</td>\n      <td>False</td>\n      <td>False</td>\n      <td>1330</td>\n      <td>1321.0</td>\n      <td>0.0</td>\n      <td>-9.0</td>\n      <td>...</td>\n      <td>1336.0</td>\n      <td>1445.0</td>\n      <td>16.0</td>\n      <td>1530</td>\n      <td>-29.0</td>\n      <td>0.0</td>\n      <td>-2.0</td>\n      <td>1500-1559</td>\n      <td>4</td>\n      <td>0.0</td>\n    </tr>\n    <tr>\n      <th>3</th>\n      <td>2021-03-03</td>\n      <td>SkyWest Airlines Inc.</td>\n      <td>DFW</td>\n      <td>TRI</td>\n      <td>False</td>\n      <td>False</td>\n      <td>1645</td>\n      <td>1636.0</td>\n      <td>0.0</td>\n      <td>-9.0</td>\n      <td>...</td>\n      <td>1703.0</td>\n      <td>1955.0</td>\n      <td>7.0</td>\n      <td>2010</td>\n      <td>-8.0</td>\n      <td>0.0</td>\n      <td>-1.0</td>\n      <td>2000-2059</td>\n      <td>4</td>\n      <td>0.0</td>\n    </tr>\n    <tr>\n      <th>4</th>\n      <td>2021-03-03</td>\n      <td>SkyWest Airlines Inc.</td>\n      <td>PHX</td>\n      <td>BFL</td>\n      <td>False</td>\n      <td>False</td>\n      <td>1844</td>\n      <td>1838.0</td>\n      <td>0.0</td>\n      <td>-6.0</td>\n      <td>...</td>\n      <td>1851.0</td>\n      <td>1900.0</td>\n      <td>3.0</td>\n      <td>1925</td>\n      <td>-22.0</td>\n      <td>0.0</td>\n      <td>-2.0</td>\n      <td>1900-1959</td>\n      <td>2</td>\n      <td>0.0</td>\n    </tr>\n  </tbody>\n</table>\n<p>5 rows × 61 columns</p>\n</div>"
     },
     "execution_count": 14,
     "metadata": {},
     "output_type": "execute_result"
    }
   ],
   "source": [
    "import dask.dataframe as dd\n",
    "\n",
    "t1 = datetime.now()\n",
    "\n",
    "df = dd.read_csv(file_path, delimiter = config_data['inbound_delimiter'])\n",
    "\n",
    "t2 = datetime.now()\n",
    "\n",
    "time_dask = t2-t1\n",
    "\n",
    "df.head()"
   ],
   "metadata": {
    "collapsed": false
   }
  },
  {
   "cell_type": "code",
   "execution_count": 15,
   "outputs": [
    {
     "name": "stdout",
     "output_type": "stream",
     "text": [
      "It take 0:00:00.005458 to load dataset using Dask\n",
      "It take 0:00:00.011093 to load dataset using Dask\n"
     ]
    }
   ],
   "source": [
    "print(f\"It take {time_dask} to load dataset using Dask\")"
   ],
   "metadata": {
    "collapsed": false
   }
  },
  {
   "cell_type": "markdown",
   "source": [
    "##### Modin"
   ],
   "metadata": {
    "collapsed": false
   }
  },
  {
   "cell_type": "code",
   "execution_count": 9,
   "outputs": [
    {
     "name": "stderr",
     "output_type": "stream",
     "text": [
      "2022-11-11 00:52:41,736 - distributed.diskutils - INFO - Found stale lock file and directory '/var/folders/55/8329xk652qqcmwyx7rj48p6m0000gn/T/dask-worker-space/worker-_2lwkijg', purging\n",
      "2022-11-11 00:52:41,736 - distributed.diskutils - INFO - Found stale lock file and directory '/var/folders/55/8329xk652qqcmwyx7rj48p6m0000gn/T/dask-worker-space/worker-qh0iid2o', purging\n",
      "2022-11-11 00:52:41,736 - distributed.diskutils - INFO - Found stale lock file and directory '/var/folders/55/8329xk652qqcmwyx7rj48p6m0000gn/T/dask-worker-space/worker-edqjricw', purging\n",
      "2022-11-11 00:52:41,737 - distributed.diskutils - INFO - Found stale lock file and directory '/var/folders/55/8329xk652qqcmwyx7rj48p6m0000gn/T/dask-worker-space/worker-a36w6bam', purging\n"
     ]
    },
    {
     "data": {
      "text/plain": "   FlightDate                Airline Origin Dest  Cancelled  Diverted  \\\n0  2021-03-03  SkyWest Airlines Inc.    SGU  PHX      False     False   \n1  2021-03-03  SkyWest Airlines Inc.    PHX  SGU      False     False   \n2  2021-03-03  SkyWest Airlines Inc.    MHT  ORD      False     False   \n3  2021-03-03  SkyWest Airlines Inc.    DFW  TRI      False     False   \n4  2021-03-03  SkyWest Airlines Inc.    PHX  BFL      False     False   \n\n   CRSDepTime  DepTime  DepDelayMinutes  DepDelay  ...  WheelsOff  WheelsOn  \\\n0         724    714.0              0.0     -10.0  ...      724.0     813.0   \n1         922    917.0              0.0      -5.0  ...      940.0    1028.0   \n2        1330   1321.0              0.0      -9.0  ...     1336.0    1445.0   \n3        1645   1636.0              0.0      -9.0  ...     1703.0    1955.0   \n4        1844   1838.0              0.0      -6.0  ...     1851.0    1900.0   \n\n   TaxiIn  CRSArrTime  ArrDelay  ArrDel15  ArrivalDelayGroups  ArrTimeBlk  \\\n0     5.0         843     -25.0       0.0                -2.0   0800-0859   \n1     3.0        1040      -9.0       0.0                -1.0   1000-1059   \n2    16.0        1530     -29.0       0.0                -2.0   1500-1559   \n3     7.0        2010      -8.0       0.0                -1.0   2000-2059   \n4     3.0        1925     -22.0       0.0                -2.0   1900-1959   \n\n   DistanceGroup DivAirportLandings  \n0              2                0.0  \n1              2                0.0  \n2              4                0.0  \n3              4                0.0  \n4              2                0.0  \n\n[5 rows x 61 columns]",
      "text/html": "<div>\n<style scoped>\n    .dataframe tbody tr th:only-of-type {\n        vertical-align: middle;\n    }\n\n    .dataframe tbody tr th {\n        vertical-align: top;\n    }\n\n    .dataframe thead th {\n        text-align: right;\n    }\n</style>\n<table border=\"1\" class=\"dataframe\">\n  <thead>\n    <tr style=\"text-align: right;\">\n      <th></th>\n      <th>FlightDate</th>\n      <th>Airline</th>\n      <th>Origin</th>\n      <th>Dest</th>\n      <th>Cancelled</th>\n      <th>Diverted</th>\n      <th>CRSDepTime</th>\n      <th>DepTime</th>\n      <th>DepDelayMinutes</th>\n      <th>DepDelay</th>\n      <th>...</th>\n      <th>WheelsOff</th>\n      <th>WheelsOn</th>\n      <th>TaxiIn</th>\n      <th>CRSArrTime</th>\n      <th>ArrDelay</th>\n      <th>ArrDel15</th>\n      <th>ArrivalDelayGroups</th>\n      <th>ArrTimeBlk</th>\n      <th>DistanceGroup</th>\n      <th>DivAirportLandings</th>\n    </tr>\n  </thead>\n  <tbody>\n    <tr>\n      <th>0</th>\n      <td>2021-03-03</td>\n      <td>SkyWest Airlines Inc.</td>\n      <td>SGU</td>\n      <td>PHX</td>\n      <td>False</td>\n      <td>False</td>\n      <td>724</td>\n      <td>714.0</td>\n      <td>0.0</td>\n      <td>-10.0</td>\n      <td>...</td>\n      <td>724.0</td>\n      <td>813.0</td>\n      <td>5.0</td>\n      <td>843</td>\n      <td>-25.0</td>\n      <td>0.0</td>\n      <td>-2.0</td>\n      <td>0800-0859</td>\n      <td>2</td>\n      <td>0.0</td>\n    </tr>\n    <tr>\n      <th>1</th>\n      <td>2021-03-03</td>\n      <td>SkyWest Airlines Inc.</td>\n      <td>PHX</td>\n      <td>SGU</td>\n      <td>False</td>\n      <td>False</td>\n      <td>922</td>\n      <td>917.0</td>\n      <td>0.0</td>\n      <td>-5.0</td>\n      <td>...</td>\n      <td>940.0</td>\n      <td>1028.0</td>\n      <td>3.0</td>\n      <td>1040</td>\n      <td>-9.0</td>\n      <td>0.0</td>\n      <td>-1.0</td>\n      <td>1000-1059</td>\n      <td>2</td>\n      <td>0.0</td>\n    </tr>\n    <tr>\n      <th>2</th>\n      <td>2021-03-03</td>\n      <td>SkyWest Airlines Inc.</td>\n      <td>MHT</td>\n      <td>ORD</td>\n      <td>False</td>\n      <td>False</td>\n      <td>1330</td>\n      <td>1321.0</td>\n      <td>0.0</td>\n      <td>-9.0</td>\n      <td>...</td>\n      <td>1336.0</td>\n      <td>1445.0</td>\n      <td>16.0</td>\n      <td>1530</td>\n      <td>-29.0</td>\n      <td>0.0</td>\n      <td>-2.0</td>\n      <td>1500-1559</td>\n      <td>4</td>\n      <td>0.0</td>\n    </tr>\n    <tr>\n      <th>3</th>\n      <td>2021-03-03</td>\n      <td>SkyWest Airlines Inc.</td>\n      <td>DFW</td>\n      <td>TRI</td>\n      <td>False</td>\n      <td>False</td>\n      <td>1645</td>\n      <td>1636.0</td>\n      <td>0.0</td>\n      <td>-9.0</td>\n      <td>...</td>\n      <td>1703.0</td>\n      <td>1955.0</td>\n      <td>7.0</td>\n      <td>2010</td>\n      <td>-8.0</td>\n      <td>0.0</td>\n      <td>-1.0</td>\n      <td>2000-2059</td>\n      <td>4</td>\n      <td>0.0</td>\n    </tr>\n    <tr>\n      <th>4</th>\n      <td>2021-03-03</td>\n      <td>SkyWest Airlines Inc.</td>\n      <td>PHX</td>\n      <td>BFL</td>\n      <td>False</td>\n      <td>False</td>\n      <td>1844</td>\n      <td>1838.0</td>\n      <td>0.0</td>\n      <td>-6.0</td>\n      <td>...</td>\n      <td>1851.0</td>\n      <td>1900.0</td>\n      <td>3.0</td>\n      <td>1925</td>\n      <td>-22.0</td>\n      <td>0.0</td>\n      <td>-2.0</td>\n      <td>1900-1959</td>\n      <td>2</td>\n      <td>0.0</td>\n    </tr>\n  </tbody>\n</table>\n<p>5 rows x 61 columns</p>\n</div>"
     },
     "execution_count": 9,
     "metadata": {},
     "output_type": "execute_result"
    }
   ],
   "source": [
    "import modin.pandas\n",
    "\n",
    "import os\n",
    "\n",
    "os.environ[\"MODIN_ENGINE\"] = \"dask\"  # Modin will use Dask\n",
    "\n",
    "from distributed import Client\n",
    "\n",
    "client = Client()\n",
    "\n",
    "t1 = datetime.now()\n",
    "\n",
    "df = modin.pandas.read_csv(file_path, delimiter = config_data['inbound_delimiter'])\n",
    "\n",
    "t2 = datetime.now()\n",
    "\n",
    "time_modin = t2-t1\n",
    "\n",
    "df.head()"
   ],
   "metadata": {
    "collapsed": false
   }
  },
  {
   "cell_type": "code",
   "execution_count": 10,
   "outputs": [
    {
     "name": "stdout",
     "output_type": "stream",
     "text": [
      "It take 0:00:21.324870 to load dataset using Modin\n"
     ]
    }
   ],
   "source": [
    "print(f\"It take {time_modin} to load dataset using Modin\")"
   ],
   "metadata": {
    "collapsed": false
   }
  },
  {
   "cell_type": "markdown",
   "source": [
    "## Validation"
   ],
   "metadata": {
    "collapsed": false
   }
  },
  {
   "cell_type": "code",
   "execution_count": 11,
   "outputs": [
    {
     "name": "stdout",
     "output_type": "stream",
     "text": [
      "column name and column length validation passed\n"
     ]
    },
    {
     "data": {
      "text/plain": "1"
     },
     "execution_count": 11,
     "metadata": {},
     "output_type": "execute_result"
    }
   ],
   "source": [
    "#validate the header of the file\n",
    "util.col_header_val(df, config_data)"
   ],
   "metadata": {
    "collapsed": false
   }
  },
  {
   "cell_type": "code",
   "execution_count": 12,
   "outputs": [
    {
     "name": "stdout",
     "output_type": "stream",
     "text": [
      "columns of files are: Index(['flightdate', 'airline', 'origin', 'dest', 'cancelled', 'diverted',\n",
      "       'crsdeptime', 'deptime', 'depdelayminutes', 'depdelay', 'arrtime',\n",
      "       'arrdelayminutes', 'airtime', 'crselapsedtime', 'actualelapsedtime',\n",
      "       'distance', 'year', 'quarter', 'month', 'dayofmonth', 'dayofweek',\n",
      "       'marketing_airline_network', 'operated_or_branded_code_share_partners',\n",
      "       'dot_id_marketing_airline', 'iata_code_marketing_airline',\n",
      "       'flight_number_marketing_airline', 'operating_airline',\n",
      "       'dot_id_operating_airline', 'iata_code_operating_airline',\n",
      "       'tail_number', 'flight_number_operating_airline', 'originairportid',\n",
      "       'originairportseqid', 'origincitymarketid', 'origincityname',\n",
      "       'originstate', 'originstatefips', 'originstatename', 'originwac',\n",
      "       'destairportid', 'destairportseqid', 'destcitymarketid', 'destcityname',\n",
      "       'deststate', 'deststatefips', 'deststatename', 'destwac', 'depdel15',\n",
      "       'departuredelaygroups', 'deptimeblk', 'taxiout', 'wheelsoff',\n",
      "       'wheelson', 'taxiin', 'crsarrtime', 'arrdelay', 'arrdel15',\n",
      "       'arrivaldelaygroups', 'arrtimeblk', 'distancegroup',\n",
      "       'divairportlandings'],\n",
      "      dtype='object')\n",
      "columns of YAML are: ['FlightDate', 'Airline', 'Origin', 'Dest', 'Cancelled', 'Diverted', 'CRSDepTime', 'DepTime', 'DepDelayMinutes', 'DepDelay', 'ArrTime', 'ArrDelayMinutes', 'AirTime', 'CRSElapsedTime', 'ActualElapsedTime', 'Distance', 'Year', 'Quarter', 'Month', 'DayofMonth', 'DayOfWeek', 'Marketing_Airline_Network', 'Operated_or_Branded_Code_Share_Partners', 'DOT_ID_Marketing_Airline', 'IATA_Code_Marketing_Airline', 'Flight_Number_Marketing_Airline', 'Operating_Airline', 'DOT_ID_Operating_Airline', 'IATA_Code_Operating_Airline', 'Tail_Number', 'Flight_Number_Operating_Airline', 'OriginAirportID', 'OriginAirportSeqID', 'OriginCityMarketID', 'OriginCityName', 'OriginState', 'OriginStateFips', 'OriginStateName', 'OriginWac', 'DestAirportID', 'DestAirportSeqID', 'DestCityMarketID', 'DestCityName', 'DestState', 'DestStateFips', 'DestStateName', 'DestWac', 'DepDel15', 'DepartureDelayGroups', 'DepTimeBlk', 'TaxiOut', 'WheelsOff', 'WheelsOn', 'TaxiIn', 'CRSArrTime', 'ArrDelay', 'ArrDel15', 'ArrivalDelayGroups', 'ArrTimeBlk', 'DistanceGroup', 'DivAirportLandings']\n"
     ]
    }
   ],
   "source": [
    "print(\"columns of files are:\" ,df.columns)\n",
    "print(\"columns of YAML are:\" ,config_data['columns'])"
   ],
   "metadata": {
    "collapsed": false
   }
  },
  {
   "cell_type": "code",
   "execution_count": 13,
   "outputs": [
    {
     "name": "stderr",
     "output_type": "stream",
     "text": [
      "2022-11-11 00:53:13,012 - distributed.worker - WARNING - Could not find data: {'function-ec9286b97bb548a8b13ca43652628c82': ['tcp://127.0.0.1:52211']} on workers: [] (who_has: {'function-ec9286b97bb548a8b13ca43652628c82': ['tcp://127.0.0.1:52211']})\n",
      "2022-11-11 00:53:13,013 - distributed.scheduler - WARNING - Worker tcp://127.0.0.1:52212 failed to acquire keys: {'function-ec9286b97bb548a8b13ca43652628c82': ('tcp://127.0.0.1:52211',)}\n"
     ]
    },
    {
     "name": "stdout",
     "output_type": "stream",
     "text": [
      "column name and column length validation passed\n",
      "col validation passed\n"
     ]
    }
   ],
   "source": [
    "if util.col_header_val(df,config_data)==0:\n",
    "    print(\"validation failed\")\n",
    "    # write code to reject the file\n",
    "else:\n",
    "    print(\"col validation passed\")\n",
    "    # write the code to perform further action\n",
    "    # in the pipleine"
   ],
   "metadata": {
    "collapsed": false
   }
  },
  {
   "cell_type": "markdown",
   "source": [
    "## Write file"
   ],
   "metadata": {
    "collapsed": false
   }
  },
  {
   "cell_type": "code",
   "execution_count": 16,
   "outputs": [
    {
     "data": {
      "text/plain": "['/Users/yujh01/Local Documents/Data Glacier/Week 6/data.gz/00.part',\n '/Users/yujh01/Local Documents/Data Glacier/Week 6/data.gz/01.part',\n '/Users/yujh01/Local Documents/Data Glacier/Week 6/data.gz/02.part',\n '/Users/yujh01/Local Documents/Data Glacier/Week 6/data.gz/03.part',\n '/Users/yujh01/Local Documents/Data Glacier/Week 6/data.gz/04.part',\n '/Users/yujh01/Local Documents/Data Glacier/Week 6/data.gz/05.part',\n '/Users/yujh01/Local Documents/Data Glacier/Week 6/data.gz/06.part',\n '/Users/yujh01/Local Documents/Data Glacier/Week 6/data.gz/07.part',\n '/Users/yujh01/Local Documents/Data Glacier/Week 6/data.gz/08.part',\n '/Users/yujh01/Local Documents/Data Glacier/Week 6/data.gz/09.part',\n '/Users/yujh01/Local Documents/Data Glacier/Week 6/data.gz/10.part',\n '/Users/yujh01/Local Documents/Data Glacier/Week 6/data.gz/11.part',\n '/Users/yujh01/Local Documents/Data Glacier/Week 6/data.gz/12.part',\n '/Users/yujh01/Local Documents/Data Glacier/Week 6/data.gz/13.part',\n '/Users/yujh01/Local Documents/Data Glacier/Week 6/data.gz/14.part',\n '/Users/yujh01/Local Documents/Data Glacier/Week 6/data.gz/15.part',\n '/Users/yujh01/Local Documents/Data Glacier/Week 6/data.gz/16.part',\n '/Users/yujh01/Local Documents/Data Glacier/Week 6/data.gz/17.part',\n '/Users/yujh01/Local Documents/Data Glacier/Week 6/data.gz/18.part',\n '/Users/yujh01/Local Documents/Data Glacier/Week 6/data.gz/19.part',\n '/Users/yujh01/Local Documents/Data Glacier/Week 6/data.gz/20.part',\n '/Users/yujh01/Local Documents/Data Glacier/Week 6/data.gz/21.part',\n '/Users/yujh01/Local Documents/Data Glacier/Week 6/data.gz/22.part',\n '/Users/yujh01/Local Documents/Data Glacier/Week 6/data.gz/23.part',\n '/Users/yujh01/Local Documents/Data Glacier/Week 6/data.gz/24.part',\n '/Users/yujh01/Local Documents/Data Glacier/Week 6/data.gz/25.part',\n '/Users/yujh01/Local Documents/Data Glacier/Week 6/data.gz/26.part',\n '/Users/yujh01/Local Documents/Data Glacier/Week 6/data.gz/27.part',\n '/Users/yujh01/Local Documents/Data Glacier/Week 6/data.gz/28.part',\n '/Users/yujh01/Local Documents/Data Glacier/Week 6/data.gz/29.part',\n '/Users/yujh01/Local Documents/Data Glacier/Week 6/data.gz/30.part',\n '/Users/yujh01/Local Documents/Data Glacier/Week 6/data.gz/31.part',\n '/Users/yujh01/Local Documents/Data Glacier/Week 6/data.gz/32.part',\n '/Users/yujh01/Local Documents/Data Glacier/Week 6/data.gz/33.part']"
     },
     "execution_count": 16,
     "metadata": {},
     "output_type": "execute_result"
    }
   ],
   "source": [
    "df.to_csv(filename=\"data.gz\", index=False, compression=\"gzip\", sep=\"|\")"
   ],
   "metadata": {
    "collapsed": false
   }
  },
  {
   "cell_type": "markdown",
   "source": [
    "## Summary"
   ],
   "metadata": {
    "collapsed": false
   }
  },
  {
   "cell_type": "code",
   "execution_count": 17,
   "outputs": [
    {
     "name": "stdout",
     "output_type": "stream",
     "text": [
      "Writing summary.txt\n"
     ]
    }
   ],
   "source": [
    "%%writefile summary.txt\n",
    "Total number of rows: 6311871\n",
    "total number of columns: 61\n",
    "file size: 334.6MB"
   ],
   "metadata": {
    "collapsed": false
   }
  }
 ],
 "metadata": {
  "kernelspec": {
   "display_name": "Python 3",
   "language": "python",
   "name": "python3"
  },
  "language_info": {
   "codemirror_mode": {
    "name": "ipython",
    "version": 2
   },
   "file_extension": ".py",
   "mimetype": "text/x-python",
   "name": "python",
   "nbconvert_exporter": "python",
   "pygments_lexer": "ipython2",
   "version": "2.7.6"
  }
 },
 "nbformat": 4,
 "nbformat_minor": 0
}
