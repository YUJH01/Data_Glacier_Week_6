{
 "cells": [
  {
   "cell_type": "markdown",
   "source": [
    "## Create testutility.py"
   ],
   "metadata": {
    "collapsed": false
   }
  },
  {
   "cell_type": "code",
   "execution_count": 2,
   "metadata": {
    "collapsed": true
   },
   "outputs": [
    {
     "name": "stdout",
     "output_type": "stream",
     "text": [
      "Overwriting testutility.py\n"
     ]
    }
   ],
   "source": [
    "%%writefile testutility.py\n",
    "import logging\n",
    "import os\n",
    "import subprocess\n",
    "import yaml\n",
    "import pandas as pd\n",
    "import datetime\n",
    "import gc\n",
    "import re\n",
    "\n",
    "\n",
    "################\n",
    "# File Reading #\n",
    "################\n",
    "\n",
    "def read_config_file(filepath):\n",
    "    with open(filepath, 'r') as stream:\n",
    "        try:\n",
    "            return yaml.safe_load(stream)\n",
    "        except yaml.YAMLError as exc:\n",
    "            logging.error(exc)\n",
    "\n",
    "\n",
    "def replacer(string, char):\n",
    "    pattern = char + '{2,}'\n",
    "    string = re.sub(pattern, char, string)\n",
    "    return string\n",
    "\n",
    "def col_header_val(df,table_config):\n",
    "    '''\n",
    "    replace whitespaces in the column\n",
    "    and standardized column names\n",
    "    '''\n",
    "    df.columns = df.columns.str.lower()\n",
    "    df.columns = df.columns.str.replace('[^\\w]','_',regex=True)\n",
    "    df.columns = list(map(lambda x: x.strip('_'), list(df.columns)))\n",
    "    df.columns = list(map(lambda x: replacer(x,'_'), list(df.columns)))\n",
    "    expected_col = list(map(lambda x: x.lower(),  table_config['columns']))\n",
    "    expected_col.sort()\n",
    "    df.columns =list(map(lambda x: x.lower(), list(df.columns)))\n",
    "    df = df.reindex(sorted(df.columns), axis=1)\n",
    "    if len(df.columns) == len(expected_col) and list(expected_col)  == list(df.columns):\n",
    "        print(\"column name and column length validation passed\")\n",
    "        return 1\n",
    "    else:\n",
    "        print(\"column name and column length validation failed\")\n",
    "        mismatched_columns_file = list(set(df.columns).difference(expected_col))\n",
    "        print(\"Following File columns are not in the YAML file\",mismatched_columns_file)\n",
    "        missing_YAML_file = list(set(expected_col).difference(df.columns))\n",
    "        print(\"Following YAML columns are not in the file uploaded\",missing_YAML_file)\n",
    "        logging.info(f'df columns: {df.columns}')\n",
    "        logging.info(f'expected columns: {expected_col}')\n",
    "        return 0"
   ]
  },
  {
   "cell_type": "markdown",
   "source": [
    "## Write YAML file"
   ],
   "metadata": {
    "collapsed": false
   }
  },
  {
   "cell_type": "code",
   "execution_count": 3,
   "outputs": [
    {
     "name": "stdout",
     "output_type": "stream",
     "text": [
      "Overwriting file.yaml\n"
     ]
    }
   ],
   "source": [
    "%%writefile file.yaml\n",
    "file_type: csv\n",
    "dataset_name: flights\n",
    "file_name: Combined_Flights_2021\n",
    "file_path: data/Combined_Flights_2021.csv\n",
    "inbound_delimiter: \",\"\n",
    "outbound_delimiter: \"|\"\n",
    "skip_leading_rows: 1\n",
    "columns:\n",
    "    - FlightDate\n",
    "    - Airline\n",
    "    - Origin\n",
    "    - Dest\n",
    "    - Cancelled\n",
    "    - Diverted\n",
    "    - CRSDepTime\n",
    "    - DepTime\n",
    "    - DepDelayMinutes\n",
    "    - DepDelay\n",
    "    - ArrTime\n",
    "    - ArrDelayMinutes\n",
    "    - AirTime\n",
    "    - CRSElapsedTime\n",
    "    - ActualElapsedTime\n",
    "    - Distance\n",
    "    - Year\n",
    "    - Quarter\n",
    "    - Month\n",
    "    - DayofMonth\n",
    "    - DayOfWeek\n",
    "    - Marketing_Airline_Network\n",
    "    - Operated_or_Branded_Code_Share_Partners\n",
    "    - DOT_ID_Marketing_Airline\n",
    "    - IATA_Code_Marketing_Airline\n",
    "    - Flight_Number_Marketing_Airline\n",
    "    - Operating_Airline\n",
    "    - DOT_ID_Operating_Airline\n",
    "    - IATA_Code_Operating_Airline\n",
    "    - Tail_Number\n",
    "    - Flight_Number_Operating_Airline\n",
    "    - OriginAirportID\n",
    "    - OriginAirportSeqID\n",
    "    - OriginCityMarketID\n",
    "    - OriginCityName\n",
    "    - OriginState\n",
    "    - OriginStateFips\n",
    "    - OriginStateName\n",
    "    - OriginWac\n",
    "    - DestAirportID\n",
    "    - DestAirportSeqID\n",
    "    - DestCityMarketID\n",
    "    - DestCityName\n",
    "    - DestState\n",
    "    - DestStateFips\n",
    "    - DestStateName\n",
    "    - DestWac\n",
    "    - DepDel15\n",
    "    - DepartureDelayGroups\n",
    "    - DepTimeBlk\n",
    "    - TaxiOut\n",
    "    - WheelsOff\n",
    "    - WheelsOn\n",
    "    - TaxiIn\n",
    "    - CRSArrTime\n",
    "    - ArrDelay\n",
    "    - ArrDel15\n",
    "    - ArrivalDelayGroups\n",
    "    - ArrTimeBlk\n",
    "    - DistanceGroup\n",
    "    - DivAirportLandings"
   ],
   "metadata": {
    "collapsed": false
   }
  },
  {
   "cell_type": "code",
   "execution_count": 4,
   "outputs": [],
   "source": [
    "# Read config file\n",
    "import testutility as util\n",
    "config_data = util.read_config_file(\"file.yaml\")"
   ],
   "metadata": {
    "collapsed": false
   }
  },
  {
   "cell_type": "code",
   "execution_count": 5,
   "outputs": [
    {
     "data": {
      "text/plain": "{'file_type': 'csv',\n 'dataset_name': 'flights',\n 'file_name': 'Combined_Flights_2021',\n 'file_path': 'data/Combined_Flights_2021.csv',\n 'inbound_delimiter': ',',\n 'outbound_delimiter': '|',\n 'skip_leading_rows': 1,\n 'columns': ['FlightDate',\n  'Airline',\n  'Origin',\n  'Dest',\n  'Cancelled',\n  'Diverted',\n  'CRSDepTime',\n  'DepTime',\n  'DepDelayMinutes',\n  'DepDelay',\n  'ArrTime',\n  'ArrDelayMinutes',\n  'AirTime',\n  'CRSElapsedTime',\n  'ActualElapsedTime',\n  'Distance',\n  'Year',\n  'Quarter',\n  'Month',\n  'DayofMonth',\n  'DayOfWeek',\n  'Marketing_Airline_Network',\n  'Operated_or_Branded_Code_Share_Partners',\n  'DOT_ID_Marketing_Airline',\n  'IATA_Code_Marketing_Airline',\n  'Flight_Number_Marketing_Airline',\n  'Operating_Airline',\n  'DOT_ID_Operating_Airline',\n  'IATA_Code_Operating_Airline',\n  'Tail_Number',\n  'Flight_Number_Operating_Airline',\n  'OriginAirportID',\n  'OriginAirportSeqID',\n  'OriginCityMarketID',\n  'OriginCityName',\n  'OriginState',\n  'OriginStateFips',\n  'OriginStateName',\n  'OriginWac',\n  'DestAirportID',\n  'DestAirportSeqID',\n  'DestCityMarketID',\n  'DestCityName',\n  'DestState',\n  'DestStateFips',\n  'DestStateName',\n  'DestWac',\n  'DepDel15',\n  'DepartureDelayGroups',\n  'DepTimeBlk',\n  'TaxiOut',\n  'WheelsOff',\n  'WheelsOn',\n  'TaxiIn',\n  'CRSArrTime',\n  'ArrDelay',\n  'ArrDel15',\n  'ArrivalDelayGroups',\n  'ArrTimeBlk',\n  'DistanceGroup',\n  'DivAirportLandings']}"
     },
     "execution_count": 5,
     "metadata": {},
     "output_type": "execute_result"
    }
   ],
   "source": [
    "#inspecting data of config file\n",
    "config_data"
   ],
   "metadata": {
    "collapsed": false
   }
  },
  {
   "cell_type": "markdown",
   "source": [
    "## Load data"
   ],
   "metadata": {
    "collapsed": false
   }
  },
  {
   "cell_type": "markdown",
   "source": [
    "##### Pandas:"
   ],
   "metadata": {
    "collapsed": false
   }
  },
  {
   "cell_type": "code",
   "execution_count": 6,
   "outputs": [
    {
     "name": "stderr",
     "output_type": "stream",
     "text": [
      "/var/folders/55/8329xk652qqcmwyx7rj48p6m0000gn/T/ipykernel_26504/30463369.py:10: FutureWarning: In a future version of pandas all arguments of read_csv except for the argument 'filepath_or_buffer' will be keyword-only.\n",
      "  df = pd.read_csv(file_path, config_data['inbound_delimiter'])\n"
     ]
    },
    {
     "data": {
      "text/plain": "   FlightDate                Airline Origin Dest  Cancelled  Diverted  \\\n0  2021-03-03  SkyWest Airlines Inc.    SGU  PHX      False     False   \n1  2021-03-03  SkyWest Airlines Inc.    PHX  SGU      False     False   \n2  2021-03-03  SkyWest Airlines Inc.    MHT  ORD      False     False   \n3  2021-03-03  SkyWest Airlines Inc.    DFW  TRI      False     False   \n4  2021-03-03  SkyWest Airlines Inc.    PHX  BFL      False     False   \n\n   CRSDepTime  DepTime  DepDelayMinutes  DepDelay  ...  WheelsOff  WheelsOn  \\\n0         724    714.0              0.0     -10.0  ...      724.0     813.0   \n1         922    917.0              0.0      -5.0  ...      940.0    1028.0   \n2        1330   1321.0              0.0      -9.0  ...     1336.0    1445.0   \n3        1645   1636.0              0.0      -9.0  ...     1703.0    1955.0   \n4        1844   1838.0              0.0      -6.0  ...     1851.0    1900.0   \n\n   TaxiIn  CRSArrTime  ArrDelay  ArrDel15  ArrivalDelayGroups  ArrTimeBlk  \\\n0     5.0         843     -25.0       0.0                -2.0   0800-0859   \n1     3.0        1040      -9.0       0.0                -1.0   1000-1059   \n2    16.0        1530     -29.0       0.0                -2.0   1500-1559   \n3     7.0        2010      -8.0       0.0                -1.0   2000-2059   \n4     3.0        1925     -22.0       0.0                -2.0   1900-1959   \n\n   DistanceGroup  DivAirportLandings  \n0              2                 0.0  \n1              2                 0.0  \n2              4                 0.0  \n3              4                 0.0  \n4              2                 0.0  \n\n[5 rows x 61 columns]",
      "text/html": "<div>\n<style scoped>\n    .dataframe tbody tr th:only-of-type {\n        vertical-align: middle;\n    }\n\n    .dataframe tbody tr th {\n        vertical-align: top;\n    }\n\n    .dataframe thead th {\n        text-align: right;\n    }\n</style>\n<table border=\"1\" class=\"dataframe\">\n  <thead>\n    <tr style=\"text-align: right;\">\n      <th></th>\n      <th>FlightDate</th>\n      <th>Airline</th>\n      <th>Origin</th>\n      <th>Dest</th>\n      <th>Cancelled</th>\n      <th>Diverted</th>\n      <th>CRSDepTime</th>\n      <th>DepTime</th>\n      <th>DepDelayMinutes</th>\n      <th>DepDelay</th>\n      <th>...</th>\n      <th>WheelsOff</th>\n      <th>WheelsOn</th>\n      <th>TaxiIn</th>\n      <th>CRSArrTime</th>\n      <th>ArrDelay</th>\n      <th>ArrDel15</th>\n      <th>ArrivalDelayGroups</th>\n      <th>ArrTimeBlk</th>\n      <th>DistanceGroup</th>\n      <th>DivAirportLandings</th>\n    </tr>\n  </thead>\n  <tbody>\n    <tr>\n      <th>0</th>\n      <td>2021-03-03</td>\n      <td>SkyWest Airlines Inc.</td>\n      <td>SGU</td>\n      <td>PHX</td>\n      <td>False</td>\n      <td>False</td>\n      <td>724</td>\n      <td>714.0</td>\n      <td>0.0</td>\n      <td>-10.0</td>\n      <td>...</td>\n      <td>724.0</td>\n      <td>813.0</td>\n      <td>5.0</td>\n      <td>843</td>\n      <td>-25.0</td>\n      <td>0.0</td>\n      <td>-2.0</td>\n      <td>0800-0859</td>\n      <td>2</td>\n      <td>0.0</td>\n    </tr>\n    <tr>\n      <th>1</th>\n      <td>2021-03-03</td>\n      <td>SkyWest Airlines Inc.</td>\n      <td>PHX</td>\n      <td>SGU</td>\n      <td>False</td>\n      <td>False</td>\n      <td>922</td>\n      <td>917.0</td>\n      <td>0.0</td>\n      <td>-5.0</td>\n      <td>...</td>\n      <td>940.0</td>\n      <td>1028.0</td>\n      <td>3.0</td>\n      <td>1040</td>\n      <td>-9.0</td>\n      <td>0.0</td>\n      <td>-1.0</td>\n      <td>1000-1059</td>\n      <td>2</td>\n      <td>0.0</td>\n    </tr>\n    <tr>\n      <th>2</th>\n      <td>2021-03-03</td>\n      <td>SkyWest Airlines Inc.</td>\n      <td>MHT</td>\n      <td>ORD</td>\n      <td>False</td>\n      <td>False</td>\n      <td>1330</td>\n      <td>1321.0</td>\n      <td>0.0</td>\n      <td>-9.0</td>\n      <td>...</td>\n      <td>1336.0</td>\n      <td>1445.0</td>\n      <td>16.0</td>\n      <td>1530</td>\n      <td>-29.0</td>\n      <td>0.0</td>\n      <td>-2.0</td>\n      <td>1500-1559</td>\n      <td>4</td>\n      <td>0.0</td>\n    </tr>\n    <tr>\n      <th>3</th>\n      <td>2021-03-03</td>\n      <td>SkyWest Airlines Inc.</td>\n      <td>DFW</td>\n      <td>TRI</td>\n      <td>False</td>\n      <td>False</td>\n      <td>1645</td>\n      <td>1636.0</td>\n      <td>0.0</td>\n      <td>-9.0</td>\n      <td>...</td>\n      <td>1703.0</td>\n      <td>1955.0</td>\n      <td>7.0</td>\n      <td>2010</td>\n      <td>-8.0</td>\n      <td>0.0</td>\n      <td>-1.0</td>\n      <td>2000-2059</td>\n      <td>4</td>\n      <td>0.0</td>\n    </tr>\n    <tr>\n      <th>4</th>\n      <td>2021-03-03</td>\n      <td>SkyWest Airlines Inc.</td>\n      <td>PHX</td>\n      <td>BFL</td>\n      <td>False</td>\n      <td>False</td>\n      <td>1844</td>\n      <td>1838.0</td>\n      <td>0.0</td>\n      <td>-6.0</td>\n      <td>...</td>\n      <td>1851.0</td>\n      <td>1900.0</td>\n      <td>3.0</td>\n      <td>1925</td>\n      <td>-22.0</td>\n      <td>0.0</td>\n      <td>-2.0</td>\n      <td>1900-1959</td>\n      <td>2</td>\n      <td>0.0</td>\n    </tr>\n  </tbody>\n</table>\n<p>5 rows × 61 columns</p>\n</div>"
     },
     "execution_count": 6,
     "metadata": {},
     "output_type": "execute_result"
    }
   ],
   "source": [
    "# read the file using config file\n",
    "from datetime import datetime\n",
    "import pandas as pd\n",
    "\n",
    "file_type = config_data['file_type']\n",
    "file_path = config_data['file_path']\n",
    "\n",
    "t1 = datetime.now()\n",
    "\n",
    "df = pd.read_csv(file_path, config_data['inbound_delimiter'])\n",
    "\n",
    "t2 = datetime.now()\n",
    "\n",
    "time_pandas = t2-t1\n",
    "\n",
    "df.head()"
   ],
   "metadata": {
    "collapsed": false
   }
  },
  {
   "cell_type": "code",
   "execution_count": 7,
   "outputs": [
    {
     "name": "stdout",
     "output_type": "stream",
     "text": [
      "It take 0:00:29.122581 to load dataset using Pandas\n"
     ]
    }
   ],
   "source": [
    "print(f\"It take {time_pandas} to load dataset using Pandas\")"
   ],
   "metadata": {
    "collapsed": false
   }
  },
  {
   "cell_type": "markdown",
   "source": [
    "##### Dask"
   ],
   "metadata": {
    "collapsed": false
   }
  },
  {
   "cell_type": "code",
   "execution_count": 8,
   "outputs": [
    {
     "data": {
      "text/plain": "   FlightDate                Airline Origin Dest  Cancelled  Diverted  \\\n0  2021-03-03  SkyWest Airlines Inc.    SGU  PHX      False     False   \n1  2021-03-03  SkyWest Airlines Inc.    PHX  SGU      False     False   \n2  2021-03-03  SkyWest Airlines Inc.    MHT  ORD      False     False   \n3  2021-03-03  SkyWest Airlines Inc.    DFW  TRI      False     False   \n4  2021-03-03  SkyWest Airlines Inc.    PHX  BFL      False     False   \n\n   CRSDepTime  DepTime  DepDelayMinutes  DepDelay  ...  WheelsOff  WheelsOn  \\\n0         724    714.0              0.0     -10.0  ...      724.0     813.0   \n1         922    917.0              0.0      -5.0  ...      940.0    1028.0   \n2        1330   1321.0              0.0      -9.0  ...     1336.0    1445.0   \n3        1645   1636.0              0.0      -9.0  ...     1703.0    1955.0   \n4        1844   1838.0              0.0      -6.0  ...     1851.0    1900.0   \n\n   TaxiIn  CRSArrTime  ArrDelay  ArrDel15  ArrivalDelayGroups  ArrTimeBlk  \\\n0     5.0         843     -25.0       0.0                -2.0   0800-0859   \n1     3.0        1040      -9.0       0.0                -1.0   1000-1059   \n2    16.0        1530     -29.0       0.0                -2.0   1500-1559   \n3     7.0        2010      -8.0       0.0                -1.0   2000-2059   \n4     3.0        1925     -22.0       0.0                -2.0   1900-1959   \n\n   DistanceGroup  DivAirportLandings  \n0              2                 0.0  \n1              2                 0.0  \n2              4                 0.0  \n3              4                 0.0  \n4              2                 0.0  \n\n[5 rows x 61 columns]",
      "text/html": "<div>\n<style scoped>\n    .dataframe tbody tr th:only-of-type {\n        vertical-align: middle;\n    }\n\n    .dataframe tbody tr th {\n        vertical-align: top;\n    }\n\n    .dataframe thead th {\n        text-align: right;\n    }\n</style>\n<table border=\"1\" class=\"dataframe\">\n  <thead>\n    <tr style=\"text-align: right;\">\n      <th></th>\n      <th>FlightDate</th>\n      <th>Airline</th>\n      <th>Origin</th>\n      <th>Dest</th>\n      <th>Cancelled</th>\n      <th>Diverted</th>\n      <th>CRSDepTime</th>\n      <th>DepTime</th>\n      <th>DepDelayMinutes</th>\n      <th>DepDelay</th>\n      <th>...</th>\n      <th>WheelsOff</th>\n      <th>WheelsOn</th>\n      <th>TaxiIn</th>\n      <th>CRSArrTime</th>\n      <th>ArrDelay</th>\n      <th>ArrDel15</th>\n      <th>ArrivalDelayGroups</th>\n      <th>ArrTimeBlk</th>\n      <th>DistanceGroup</th>\n      <th>DivAirportLandings</th>\n    </tr>\n  </thead>\n  <tbody>\n    <tr>\n      <th>0</th>\n      <td>2021-03-03</td>\n      <td>SkyWest Airlines Inc.</td>\n      <td>SGU</td>\n      <td>PHX</td>\n      <td>False</td>\n      <td>False</td>\n      <td>724</td>\n      <td>714.0</td>\n      <td>0.0</td>\n      <td>-10.0</td>\n      <td>...</td>\n      <td>724.0</td>\n      <td>813.0</td>\n      <td>5.0</td>\n      <td>843</td>\n      <td>-25.0</td>\n      <td>0.0</td>\n      <td>-2.0</td>\n      <td>0800-0859</td>\n      <td>2</td>\n      <td>0.0</td>\n    </tr>\n    <tr>\n      <th>1</th>\n      <td>2021-03-03</td>\n      <td>SkyWest Airlines Inc.</td>\n      <td>PHX</td>\n      <td>SGU</td>\n      <td>False</td>\n      <td>False</td>\n      <td>922</td>\n      <td>917.0</td>\n      <td>0.0</td>\n      <td>-5.0</td>\n      <td>...</td>\n      <td>940.0</td>\n      <td>1028.0</td>\n      <td>3.0</td>\n      <td>1040</td>\n      <td>-9.0</td>\n      <td>0.0</td>\n      <td>-1.0</td>\n      <td>1000-1059</td>\n      <td>2</td>\n      <td>0.0</td>\n    </tr>\n    <tr>\n      <th>2</th>\n      <td>2021-03-03</td>\n      <td>SkyWest Airlines Inc.</td>\n      <td>MHT</td>\n      <td>ORD</td>\n      <td>False</td>\n      <td>False</td>\n      <td>1330</td>\n      <td>1321.0</td>\n      <td>0.0</td>\n      <td>-9.0</td>\n      <td>...</td>\n      <td>1336.0</td>\n      <td>1445.0</td>\n      <td>16.0</td>\n      <td>1530</td>\n      <td>-29.0</td>\n      <td>0.0</td>\n      <td>-2.0</td>\n      <td>1500-1559</td>\n      <td>4</td>\n      <td>0.0</td>\n    </tr>\n    <tr>\n      <th>3</th>\n      <td>2021-03-03</td>\n      <td>SkyWest Airlines Inc.</td>\n      <td>DFW</td>\n      <td>TRI</td>\n      <td>False</td>\n      <td>False</td>\n      <td>1645</td>\n      <td>1636.0</td>\n      <td>0.0</td>\n      <td>-9.0</td>\n      <td>...</td>\n      <td>1703.0</td>\n      <td>1955.0</td>\n      <td>7.0</td>\n      <td>2010</td>\n      <td>-8.0</td>\n      <td>0.0</td>\n      <td>-1.0</td>\n      <td>2000-2059</td>\n      <td>4</td>\n      <td>0.0</td>\n    </tr>\n    <tr>\n      <th>4</th>\n      <td>2021-03-03</td>\n      <td>SkyWest Airlines Inc.</td>\n      <td>PHX</td>\n      <td>BFL</td>\n      <td>False</td>\n      <td>False</td>\n      <td>1844</td>\n      <td>1838.0</td>\n      <td>0.0</td>\n      <td>-6.0</td>\n      <td>...</td>\n      <td>1851.0</td>\n      <td>1900.0</td>\n      <td>3.0</td>\n      <td>1925</td>\n      <td>-22.0</td>\n      <td>0.0</td>\n      <td>-2.0</td>\n      <td>1900-1959</td>\n      <td>2</td>\n      <td>0.0</td>\n    </tr>\n  </tbody>\n</table>\n<p>5 rows × 61 columns</p>\n</div>"
     },
     "execution_count": 8,
     "metadata": {},
     "output_type": "execute_result"
    }
   ],
   "source": [
    "import dask.dataframe as dd\n",
    "\n",
    "t1 = datetime.now()\n",
    "\n",
    "df = dd.read_csv(file_path, delimiter = config_data['inbound_delimiter'])\n",
    "\n",
    "t2 = datetime.now()\n",
    "\n",
    "time_dask = t2-t1\n",
    "\n",
    "df.head()"
   ],
   "metadata": {
    "collapsed": false
   }
  },
  {
   "cell_type": "code",
   "execution_count": 9,
   "outputs": [
    {
     "name": "stdout",
     "output_type": "stream",
     "text": [
      "It take 0:00:00.007772 to load dataset using Dask\n"
     ]
    }
   ],
   "source": [
    "print(f\"It take {time_dask} to load dataset using Dask\")"
   ],
   "metadata": {
    "collapsed": false
   }
  },
  {
   "cell_type": "markdown",
   "source": [
    "##### Modin"
   ],
   "metadata": {
    "collapsed": false
   }
  },
  {
   "cell_type": "code",
   "execution_count": 10,
   "outputs": [
    {
     "name": "stderr",
     "output_type": "stream",
     "text": [
      "UserWarning: Dask execution environment not yet initialized. Initializing...\n",
      "To remove this warning, run the following python code before doing dataframe operations:\n",
      "\n",
      "    from distributed import Client\n",
      "\n",
      "    client = Client()\n",
      "\n",
      "2022-11-11 00:31:41,517 - distributed.diskutils - INFO - Found stale lock file and directory '/var/folders/55/8329xk652qqcmwyx7rj48p6m0000gn/T/dask-worker-space/worker-27ie24qz', purging\n",
      "2022-11-11 00:31:41,518 - distributed.diskutils - INFO - Found stale lock file and directory '/var/folders/55/8329xk652qqcmwyx7rj48p6m0000gn/T/dask-worker-space/worker-vwu18sth', purging\n",
      "2022-11-11 00:31:41,519 - distributed.diskutils - INFO - Found stale lock file and directory '/var/folders/55/8329xk652qqcmwyx7rj48p6m0000gn/T/dask-worker-space/worker-o3_hlqki', purging\n",
      "2022-11-11 00:31:41,520 - distributed.diskutils - INFO - Found stale lock file and directory '/var/folders/55/8329xk652qqcmwyx7rj48p6m0000gn/T/dask-worker-space/worker-2_b5r0mt', purging\n",
      "2022-11-11 00:31:41,521 - distributed.diskutils - INFO - Found stale lock file and directory '/var/folders/55/8329xk652qqcmwyx7rj48p6m0000gn/T/dask-worker-space/worker-gj_8toar', purging\n",
      "2022-11-11 00:31:41,522 - distributed.diskutils - INFO - Found stale lock file and directory '/var/folders/55/8329xk652qqcmwyx7rj48p6m0000gn/T/dask-worker-space/worker-syl5n560', purging\n",
      "2022-11-11 00:31:41,522 - distributed.diskutils - INFO - Found stale lock file and directory '/var/folders/55/8329xk652qqcmwyx7rj48p6m0000gn/T/dask-worker-space/worker-tkio3wg2', purging\n",
      "2022-11-11 00:31:41,523 - distributed.diskutils - INFO - Found stale lock file and directory '/var/folders/55/8329xk652qqcmwyx7rj48p6m0000gn/T/dask-worker-space/worker-7mhqa7ny', purging\n"
     ]
    },
    {
     "data": {
      "text/plain": "   FlightDate                Airline Origin Dest  Cancelled  Diverted  \\\n0  2021-03-03  SkyWest Airlines Inc.    SGU  PHX      False     False   \n1  2021-03-03  SkyWest Airlines Inc.    PHX  SGU      False     False   \n2  2021-03-03  SkyWest Airlines Inc.    MHT  ORD      False     False   \n3  2021-03-03  SkyWest Airlines Inc.    DFW  TRI      False     False   \n4  2021-03-03  SkyWest Airlines Inc.    PHX  BFL      False     False   \n\n   CRSDepTime  DepTime  DepDelayMinutes  DepDelay  ...  WheelsOff  WheelsOn  \\\n0         724    714.0              0.0     -10.0  ...      724.0     813.0   \n1         922    917.0              0.0      -5.0  ...      940.0    1028.0   \n2        1330   1321.0              0.0      -9.0  ...     1336.0    1445.0   \n3        1645   1636.0              0.0      -9.0  ...     1703.0    1955.0   \n4        1844   1838.0              0.0      -6.0  ...     1851.0    1900.0   \n\n   TaxiIn  CRSArrTime  ArrDelay  ArrDel15  ArrivalDelayGroups  ArrTimeBlk  \\\n0     5.0         843     -25.0       0.0                -2.0   0800-0859   \n1     3.0        1040      -9.0       0.0                -1.0   1000-1059   \n2    16.0        1530     -29.0       0.0                -2.0   1500-1559   \n3     7.0        2010      -8.0       0.0                -1.0   2000-2059   \n4     3.0        1925     -22.0       0.0                -2.0   1900-1959   \n\n   DistanceGroup DivAirportLandings  \n0              2                0.0  \n1              2                0.0  \n2              4                0.0  \n3              4                0.0  \n4              2                0.0  \n\n[5 rows x 61 columns]",
      "text/html": "<div>\n<style scoped>\n    .dataframe tbody tr th:only-of-type {\n        vertical-align: middle;\n    }\n\n    .dataframe tbody tr th {\n        vertical-align: top;\n    }\n\n    .dataframe thead th {\n        text-align: right;\n    }\n</style>\n<table border=\"1\" class=\"dataframe\">\n  <thead>\n    <tr style=\"text-align: right;\">\n      <th></th>\n      <th>FlightDate</th>\n      <th>Airline</th>\n      <th>Origin</th>\n      <th>Dest</th>\n      <th>Cancelled</th>\n      <th>Diverted</th>\n      <th>CRSDepTime</th>\n      <th>DepTime</th>\n      <th>DepDelayMinutes</th>\n      <th>DepDelay</th>\n      <th>...</th>\n      <th>WheelsOff</th>\n      <th>WheelsOn</th>\n      <th>TaxiIn</th>\n      <th>CRSArrTime</th>\n      <th>ArrDelay</th>\n      <th>ArrDel15</th>\n      <th>ArrivalDelayGroups</th>\n      <th>ArrTimeBlk</th>\n      <th>DistanceGroup</th>\n      <th>DivAirportLandings</th>\n    </tr>\n  </thead>\n  <tbody>\n    <tr>\n      <th>0</th>\n      <td>2021-03-03</td>\n      <td>SkyWest Airlines Inc.</td>\n      <td>SGU</td>\n      <td>PHX</td>\n      <td>False</td>\n      <td>False</td>\n      <td>724</td>\n      <td>714.0</td>\n      <td>0.0</td>\n      <td>-10.0</td>\n      <td>...</td>\n      <td>724.0</td>\n      <td>813.0</td>\n      <td>5.0</td>\n      <td>843</td>\n      <td>-25.0</td>\n      <td>0.0</td>\n      <td>-2.0</td>\n      <td>0800-0859</td>\n      <td>2</td>\n      <td>0.0</td>\n    </tr>\n    <tr>\n      <th>1</th>\n      <td>2021-03-03</td>\n      <td>SkyWest Airlines Inc.</td>\n      <td>PHX</td>\n      <td>SGU</td>\n      <td>False</td>\n      <td>False</td>\n      <td>922</td>\n      <td>917.0</td>\n      <td>0.0</td>\n      <td>-5.0</td>\n      <td>...</td>\n      <td>940.0</td>\n      <td>1028.0</td>\n      <td>3.0</td>\n      <td>1040</td>\n      <td>-9.0</td>\n      <td>0.0</td>\n      <td>-1.0</td>\n      <td>1000-1059</td>\n      <td>2</td>\n      <td>0.0</td>\n    </tr>\n    <tr>\n      <th>2</th>\n      <td>2021-03-03</td>\n      <td>SkyWest Airlines Inc.</td>\n      <td>MHT</td>\n      <td>ORD</td>\n      <td>False</td>\n      <td>False</td>\n      <td>1330</td>\n      <td>1321.0</td>\n      <td>0.0</td>\n      <td>-9.0</td>\n      <td>...</td>\n      <td>1336.0</td>\n      <td>1445.0</td>\n      <td>16.0</td>\n      <td>1530</td>\n      <td>-29.0</td>\n      <td>0.0</td>\n      <td>-2.0</td>\n      <td>1500-1559</td>\n      <td>4</td>\n      <td>0.0</td>\n    </tr>\n    <tr>\n      <th>3</th>\n      <td>2021-03-03</td>\n      <td>SkyWest Airlines Inc.</td>\n      <td>DFW</td>\n      <td>TRI</td>\n      <td>False</td>\n      <td>False</td>\n      <td>1645</td>\n      <td>1636.0</td>\n      <td>0.0</td>\n      <td>-9.0</td>\n      <td>...</td>\n      <td>1703.0</td>\n      <td>1955.0</td>\n      <td>7.0</td>\n      <td>2010</td>\n      <td>-8.0</td>\n      <td>0.0</td>\n      <td>-1.0</td>\n      <td>2000-2059</td>\n      <td>4</td>\n      <td>0.0</td>\n    </tr>\n    <tr>\n      <th>4</th>\n      <td>2021-03-03</td>\n      <td>SkyWest Airlines Inc.</td>\n      <td>PHX</td>\n      <td>BFL</td>\n      <td>False</td>\n      <td>False</td>\n      <td>1844</td>\n      <td>1838.0</td>\n      <td>0.0</td>\n      <td>-6.0</td>\n      <td>...</td>\n      <td>1851.0</td>\n      <td>1900.0</td>\n      <td>3.0</td>\n      <td>1925</td>\n      <td>-22.0</td>\n      <td>0.0</td>\n      <td>-2.0</td>\n      <td>1900-1959</td>\n      <td>2</td>\n      <td>0.0</td>\n    </tr>\n  </tbody>\n</table>\n<p>5 rows x 61 columns</p>\n</div>"
     },
     "execution_count": 10,
     "metadata": {},
     "output_type": "execute_result"
    }
   ],
   "source": [
    "import modin.pandas\n",
    "\n",
    "import os\n",
    "\n",
    "os.environ[\"MODIN_ENGINE\"] = \"dask\"  # Modin will use Dask\n",
    "\n",
    "t1 = datetime.now()\n",
    "\n",
    "df = modin.pandas.read_csv(file_path, delimiter = config_data['inbound_delimiter'])\n",
    "\n",
    "t2 = datetime.now()\n",
    "\n",
    "time_modin = t2-t1\n",
    "\n",
    "df.head()"
   ],
   "metadata": {
    "collapsed": false
   }
  },
  {
   "cell_type": "code",
   "execution_count": 11,
   "outputs": [
    {
     "name": "stdout",
     "output_type": "stream",
     "text": [
      "It take 0:00:35.231856 to load dataset using Modin\n"
     ]
    }
   ],
   "source": [
    "print(f\"It take {time_modin} to load dataset using Modin\")"
   ],
   "metadata": {
    "collapsed": false
   }
  },
  {
   "cell_type": "markdown",
   "source": [
    "##### Ray"
   ],
   "metadata": {
    "collapsed": false
   }
  },
  {
   "cell_type": "code",
   "execution_count": null,
   "outputs": [
    {
     "name": "stderr",
     "output_type": "stream",
     "text": [
      "2022-11-11 00:32:17,673\tERROR services.py:1403 -- Failed to start the dashboard: Failed to start the dashboard, return code 1\n",
      "Failed to read dashboard log: [Errno 2] No such file or directory: '/tmp/ray/session_2022-11-11_00-32-16_236534_26504/logs/dashboard.log'\n",
      "2022-11-11 00:32:17,675\tERROR services.py:1404 -- Failed to start the dashboard, return code 1\n",
      "Failed to read dashboard log: [Errno 2] No such file or directory: '/tmp/ray/session_2022-11-11_00-32-16_236534_26504/logs/dashboard.log'\n",
      "Traceback (most recent call last):\n",
      "  File \"/Users/yujh01/.local/lib/python3.10/site-packages/ray/_private/services.py\", line 1375, in start_api_server\n",
      "    with open(dashboard_log, \"rb\") as f:\n",
      "FileNotFoundError: [Errno 2] No such file or directory: '/tmp/ray/session_2022-11-11_00-32-16_236534_26504/logs/dashboard.log'\n",
      "\n",
      "During handling of the above exception, another exception occurred:\n",
      "\n",
      "Traceback (most recent call last):\n",
      "  File \"/Users/yujh01/.local/lib/python3.10/site-packages/ray/_private/services.py\", line 1386, in start_api_server\n",
      "    raise Exception(err_msg + f\"\\nFailed to read dashboard log: {e}\")\n",
      "Exception: Failed to start the dashboard, return code 1\n",
      "Failed to read dashboard log: [Errno 2] No such file or directory: '/tmp/ray/session_2022-11-11_00-32-16_236534_26504/logs/dashboard.log'\n",
      "2022-11-11 00:32:17,829\tINFO worker.py:1528 -- Started a local Ray instance.\n"
     ]
    }
   ],
   "source": [
    "import ray\n",
    "# ray.init(dashboard_host=\"0.0.0.0\")\n",
    "\n",
    "t1 = datetime.now()\n",
    "\n",
    "df = ray.data.read_csv(file_path, delimiter = config_data['inbound_delimiter'])\n",
    "\n",
    "t2 = datetime.now()\n",
    "\n",
    "time_ray = t2-t1\n",
    "\n",
    "df.head()"
   ],
   "metadata": {
    "collapsed": false,
    "pycharm": {
     "is_executing": true
    }
   }
  },
  {
   "cell_type": "markdown",
   "source": [
    "## Validation"
   ],
   "metadata": {
    "collapsed": false
   }
  },
  {
   "cell_type": "code",
   "execution_count": null,
   "outputs": [],
   "source": [
    "#validate the header of the file\n",
    "util.col_header_val(df, config_data)"
   ],
   "metadata": {
    "collapsed": false,
    "pycharm": {
     "is_executing": true
    }
   }
  },
  {
   "cell_type": "code",
   "execution_count": null,
   "outputs": [],
   "source": [
    "print(\"columns of files are:\" ,df.columns)\n",
    "print(\"columns of YAML are:\" ,config_data['columns'])"
   ],
   "metadata": {
    "collapsed": false,
    "pycharm": {
     "is_executing": true
    }
   }
  },
  {
   "cell_type": "code",
   "execution_count": null,
   "outputs": [],
   "source": [
    "if util.col_header_val(df,config_data)==0:\n",
    "    print(\"validation failed\")\n",
    "    # write code to reject the file\n",
    "else:\n",
    "    print(\"col validation passed\")\n",
    "    # write the code to perform further action\n",
    "    # in the pipleine"
   ],
   "metadata": {
    "collapsed": false,
    "pycharm": {
     "is_executing": true
    }
   }
  },
  {
   "cell_type": "markdown",
   "source": [],
   "metadata": {
    "collapsed": false
   }
  }
 ],
 "metadata": {
  "kernelspec": {
   "display_name": "Python 3",
   "language": "python",
   "name": "python3"
  },
  "language_info": {
   "codemirror_mode": {
    "name": "ipython",
    "version": 2
   },
   "file_extension": ".py",
   "mimetype": "text/x-python",
   "name": "python",
   "nbconvert_exporter": "python",
   "pygments_lexer": "ipython2",
   "version": "2.7.6"
  }
 },
 "nbformat": 4,
 "nbformat_minor": 0
}
